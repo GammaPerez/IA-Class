{
  "nbformat": 4,
  "nbformat_minor": 0,
  "metadata": {
    "colab": {
      "provenance": [],
      "toc_visible": true,
      "authorship_tag": "ABX9TyOKkqQyPsZpfQNF7k1Idv8W",
      "include_colab_link": true
    },
    "kernelspec": {
      "name": "python3",
      "display_name": "Python 3"
    },
    "language_info": {
      "name": "python"
    }
  },
  "cells": [
    {
      "cell_type": "markdown",
      "metadata": {
        "id": "view-in-github",
        "colab_type": "text"
      },
      "source": [
        "<a href=\"https://colab.research.google.com/github/GammaPerez/IA-Class/blob/main/IAClass.ipynb\" target=\"_parent\"><img src=\"https://colab.research.google.com/assets/colab-badge.svg\" alt=\"Open In Colab\"/></a>"
      ]
    },
    {
      "cell_type": "markdown",
      "source": [
        "# 6/Nov/2023"
      ],
      "metadata": {
        "id": "RFeBOc63k0_2"
      }
    },
    {
      "cell_type": "markdown",
      "source": [
        "Prueba de Codigo Simple:"
      ],
      "metadata": {
        "id": "PSDHYQyVk3hg"
      }
    },
    {
      "cell_type": "code",
      "execution_count": null,
      "metadata": {
        "colab": {
          "base_uri": "https://localhost:8080/"
        },
        "id": "P8DFZJlGivwz",
        "outputId": "335a3550-69dc-46f4-acb5-67a9af530800"
      },
      "outputs": [
        {
          "output_type": "stream",
          "name": "stdout",
          "text": [
            "0.45248868778280543\n",
            "1\n"
          ]
        },
        {
          "output_type": "execute_result",
          "data": {
            "text/plain": [
              "2.21"
            ]
          },
          "metadata": {},
          "execution_count": 6
        }
      ],
      "source": [
        "a = 1\n",
        "b = 2.21\n",
        "print(a / b)\n",
        "def algo(_self,_algo):\n",
        "  print(_self)\n",
        "  return _algo\n",
        "algo(a,b)"
      ]
    },
    {
      "cell_type": "markdown",
      "source": [
        "Ejemplo algo :v"
      ],
      "metadata": {
        "id": "r9xesxMmnlWx"
      }
    },
    {
      "cell_type": "code",
      "source": [
        "def no_se():\n",
        "  return \"no se\"\n",
        "\n",
        "print(no_se())\n"
      ],
      "metadata": {
        "colab": {
          "base_uri": "https://localhost:8080/"
        },
        "id": "onAJuAJFnokJ",
        "outputId": "daebed25-f918-406c-afa6-50cccaac97db"
      },
      "execution_count": null,
      "outputs": [
        {
          "output_type": "stream",
          "name": "stdout",
          "text": [
            "no se\n"
          ]
        }
      ]
    }
  ]
}